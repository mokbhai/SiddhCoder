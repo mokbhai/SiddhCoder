{
 "cells": [
  {
   "cell_type": "code",
   "execution_count": 1,
   "id": "b20c4018",
   "metadata": {},
   "outputs": [
    {
     "name": "stderr",
     "output_type": "stream",
     "text": [
      "/Users/mokshitjain/Projects/SiddhCoder/Python/anpr/.venv/lib/python3.9/site-packages/urllib3/__init__.py:35: NotOpenSSLWarning: urllib3 v2 only supports OpenSSL 1.1.1+, currently the 'ssl' module is compiled with 'LibreSSL 2.8.3'. See: https://github.com/urllib3/urllib3/issues/3020\n",
      "  warnings.warn(\n",
      "/Users/mokshitjain/Projects/SiddhCoder/Python/anpr/.venv/lib/python3.9/site-packages/tqdm/auto.py:21: TqdmWarning: IProgress not found. Please update jupyter and ipywidgets. See https://ipywidgets.readthedocs.io/en/stable/user_install.html\n",
      "  from .autonotebook import tqdm as notebook_tqdm\n"
     ]
    },
    {
     "name": "stdout",
     "output_type": "stream",
     "text": [
      "Data source import complete.\n"
     ]
    }
   ],
   "source": [
    "# IMPORTANT: RUN THIS CELL IN ORDER TO IMPORT YOUR KAGGLE DATA SOURCES,\n",
    "# THEN FEEL FREE TO DELETE THIS CELL.\n",
    "# NOTE: THIS NOTEBOOK ENVIRONMENT DIFFERS FROM KAGGLE'S PYTHON\n",
    "# ENVIRONMENT SO THERE MAY BE MISSING LIBRARIES USED BY YOUR\n",
    "# NOTEBOOK.\n",
    "import kagglehub\n",
    "andrewmvd_car_plate_detection_path = kagglehub.dataset_download('andrewmvd/car-plate-detection')\n",
    "# aslanahmedov_number_plate_detection_path = kagglehub.dataset_download('aslanahmedov/number-plate-detection')\n",
    "\n",
    "print('Data source import complete.')\n"
   ]
  },
  {
   "cell_type": "markdown",
   "id": "ef7728d3",
   "metadata": {
    "papermill": {
     "duration": 0.089246,
     "end_time": "2023-05-18T07:11:20.781578",
     "exception": false,
     "start_time": "2023-05-18T07:11:20.692332",
     "status": "completed"
    },
    "tags": []
   },
   "source": [
    "### Load trained model"
   ]
  },
  {
   "cell_type": "code",
   "execution_count": 3,
   "id": "d750d68c",
   "metadata": {
    "execution": {
     "iopub.execute_input": "2023-05-18T07:11:20.963735Z",
     "iopub.status.busy": "2023-05-18T07:11:20.963193Z",
     "iopub.status.idle": "2023-05-18T07:11:30.755818Z",
     "shell.execute_reply": "2023-05-18T07:11:30.754664Z"
    },
    "papermill": {
     "duration": 9.888552,
     "end_time": "2023-05-18T07:11:30.758660",
     "exception": false,
     "start_time": "2023-05-18T07:11:20.870108",
     "status": "completed"
    },
    "tags": []
   },
   "outputs": [
    {
     "name": "stderr",
     "output_type": "stream",
     "text": [
      "Using cache found in /Users/mokshitjain/.cache/torch/hub/ultralytics_yolov5_master\n",
      "YOLOv5 🚀 2024-11-22 Python-3.9.6 torch-2.5.1 CPU\n",
      "\n",
      "Fusing layers... \n",
      "Model summary: 157 layers, 7012822 parameters, 0 gradients, 15.8 GFLOPs\n",
      "Adding AutoShape... \n"
     ]
    }
   ],
   "source": [
    "import torch\n",
    "import cv2 as cv\n",
    "\n",
    "yolo = torch.hub.load('ultralytics/yolov5', 'custom', path='./yolov5/runs/train/exp/weights/best.pt')"
   ]
  },
  {
   "cell_type": "markdown",
   "id": "530b4dde",
   "metadata": {
    "papermill": {
     "duration": 0.08817,
     "end_time": "2023-05-18T07:11:30.936275",
     "exception": false,
     "start_time": "2023-05-18T07:11:30.848105",
     "status": "completed"
    },
    "tags": []
   },
   "source": [
    "### Inference"
   ]
  },
  {
   "cell_type": "code",
   "execution_count": 4,
   "id": "b81e7421",
   "metadata": {
    "execution": {
     "iopub.execute_input": "2023-05-18T07:11:31.121516Z",
     "iopub.status.busy": "2023-05-18T07:11:31.120143Z",
     "iopub.status.idle": "2023-05-18T07:11:31.455303Z",
     "shell.execute_reply": "2023-05-18T07:11:31.453706Z"
    },
    "papermill": {
     "duration": 0.431976,
     "end_time": "2023-05-18T07:11:31.458948",
     "exception": false,
     "start_time": "2023-05-18T07:11:31.026972",
     "status": "completed"
    },
    "tags": []
   },
   "outputs": [
    {
     "name": "stderr",
     "output_type": "stream",
     "text": [
      "/Users/mokshitjain/.cache/torch/hub/ultralytics_yolov5_master/models/common.py:892: FutureWarning: `torch.cuda.amp.autocast(args...)` is deprecated. Please use `torch.amp.autocast('cuda', args...)` instead.\n",
      "  with amp.autocast(autocast):\n"
     ]
    },
    {
     "data": {
      "text/html": [
       "<div>\n",
       "<style scoped>\n",
       "    .dataframe tbody tr th:only-of-type {\n",
       "        vertical-align: middle;\n",
       "    }\n",
       "\n",
       "    .dataframe tbody tr th {\n",
       "        vertical-align: top;\n",
       "    }\n",
       "\n",
       "    .dataframe thead th {\n",
       "        text-align: right;\n",
       "    }\n",
       "</style>\n",
       "<table border=\"1\" class=\"dataframe\">\n",
       "  <thead>\n",
       "    <tr style=\"text-align: right;\">\n",
       "      <th></th>\n",
       "      <th>xmin</th>\n",
       "      <th>ymin</th>\n",
       "      <th>xmax</th>\n",
       "      <th>ymax</th>\n",
       "      <th>confidence</th>\n",
       "      <th>class</th>\n",
       "      <th>name</th>\n",
       "    </tr>\n",
       "  </thead>\n",
       "  <tbody>\n",
       "    <tr>\n",
       "      <th>0</th>\n",
       "      <td>186.281677</td>\n",
       "      <td>180.001419</td>\n",
       "      <td>340.038269</td>\n",
       "      <td>268.683594</td>\n",
       "      <td>0.793952</td>\n",
       "      <td>0</td>\n",
       "      <td>car_lisence_plate</td>\n",
       "    </tr>\n",
       "  </tbody>\n",
       "</table>\n",
       "</div>"
      ],
      "text/plain": [
       "         xmin        ymin        xmax        ymax  confidence  class  \\\n",
       "0  186.281677  180.001419  340.038269  268.683594    0.793952      0   \n",
       "\n",
       "                name  \n",
       "0  car_lisence_plate  "
      ]
     },
     "execution_count": 4,
     "metadata": {},
     "output_type": "execute_result"
    }
   ],
   "source": [
    "img = './image.png'\n",
    "\n",
    "# Inference\n",
    "results = yolo(img)\n",
    "\n",
    "cordinates = results.xyxy[0][:, :-1]\n",
    "results.pandas().xyxy[0]"
   ]
  },
  {
   "cell_type": "markdown",
   "id": "ef6adbc9",
   "metadata": {
    "papermill": {
     "duration": 0.091004,
     "end_time": "2023-05-18T07:11:31.642034",
     "exception": false,
     "start_time": "2023-05-18T07:11:31.551030",
     "status": "completed"
    },
    "tags": []
   },
   "source": [
    "## 4. Extract Number Plate"
   ]
  },
  {
   "cell_type": "markdown",
   "id": "def4f761",
   "metadata": {
    "papermill": {
     "duration": 0.093763,
     "end_time": "2023-05-18T07:11:31.832689",
     "exception": false,
     "start_time": "2023-05-18T07:11:31.738926",
     "status": "completed"
    },
    "tags": []
   },
   "source": [
    "### Install EasyOCR"
   ]
  },
  {
   "cell_type": "code",
   "execution_count": 5,
   "id": "38d89f1f",
   "metadata": {
    "execution": {
     "iopub.execute_input": "2023-05-18T07:11:32.021892Z",
     "iopub.status.busy": "2023-05-18T07:11:32.021189Z",
     "iopub.status.idle": "2023-05-18T07:11:48.055762Z",
     "shell.execute_reply": "2023-05-18T07:11:48.053956Z"
    },
    "papermill": {
     "duration": 16.134328,
     "end_time": "2023-05-18T07:11:48.058621",
     "exception": false,
     "start_time": "2023-05-18T07:11:31.924293",
     "status": "completed"
    },
    "tags": []
   },
   "outputs": [],
   "source": [
    "# %pip install easyocr -qq"
   ]
  },
  {
   "cell_type": "markdown",
   "id": "cf85c9c1",
   "metadata": {
    "papermill": {
     "duration": 0.092448,
     "end_time": "2023-05-18T07:11:48.241113",
     "exception": false,
     "start_time": "2023-05-18T07:11:48.148665",
     "status": "completed"
    },
    "tags": []
   },
   "source": [
    "### Read Plate Number"
   ]
  },
  {
   "cell_type": "code",
   "execution_count": 6,
   "id": "ec4f6b58",
   "metadata": {
    "execution": {
     "iopub.execute_input": "2023-05-18T07:11:48.443121Z",
     "iopub.status.busy": "2023-05-18T07:11:48.441684Z",
     "iopub.status.idle": "2023-05-18T07:11:48.456267Z",
     "shell.execute_reply": "2023-05-18T07:11:48.454925Z"
    },
    "papermill": {
     "duration": 0.118792,
     "end_time": "2023-05-18T07:11:48.458840",
     "exception": false,
     "start_time": "2023-05-18T07:11:48.340048",
     "status": "completed"
    },
    "tags": []
   },
   "outputs": [],
   "source": [
    "def read_plate_number(results, frame, reader):\n",
    "    n = len(results)\n",
    "    x_shape, y_shape = frame.shape[1], frame.shape[0]\n",
    "\n",
    "    for i in range(n):\n",
    "        row = cordinates[i] # Iterate through each image\n",
    "        if row[4] >= 0.5: ## Take img with 0.5 confidence\n",
    "            xmin, ymin, xmax, ymax = row[:4]\n",
    "            plate = frame[int(ymin):int(ymax), int(xmin):int(xmax)]\n",
    "\n",
    "            ## Preprocess Plate\n",
    "            gray = cv.cvtColor(plate, cv.COLOR_BGR2GRAY)\n",
    "            blurred = cv.bilateralFilter(gray, 17, 15, 15)\n",
    "            # ret, thresh = cv.threshold(blurred, 125, 255, cv.THRESH_BINARY)\n",
    "\n",
    "            ## OCR\n",
    "            text = reader.readtext(blurred)\n",
    "            text = ' '.join([t[1] for t in text])\n",
    "\n",
    "            \n",
    "            return text\n",
    "\n",
    "            # return cv.cvtColor(final_img, cv.COLOR_BGR2RGB)\n",
    "            # cv.imwrite(f'./labeled_img_{i}.jpg', cv.cvtColor(final_img, cv.COLOR_BGR2RGB))"
   ]
  },
  {
   "cell_type": "code",
   "execution_count": 7,
   "id": "222b0dde",
   "metadata": {
    "execution": {
     "iopub.execute_input": "2023-05-18T07:11:48.644457Z",
     "iopub.status.busy": "2023-05-18T07:11:48.644038Z",
     "iopub.status.idle": "2023-05-18T07:11:53.882653Z",
     "shell.execute_reply": "2023-05-18T07:11:53.881302Z"
    },
    "papermill": {
     "duration": 5.341865,
     "end_time": "2023-05-18T07:11:53.892434",
     "exception": false,
     "start_time": "2023-05-18T07:11:48.550569",
     "status": "completed"
    },
    "tags": []
   },
   "outputs": [
    {
     "name": "stdout",
     "output_type": "stream",
     "text": [
      "MH 14 TCF 200 F\n"
     ]
    }
   ],
   "source": [
    "import matplotlib.pyplot as plt\n",
    "import easyocr\n",
    "%matplotlib inline\n",
    "\n",
    "reader = easyocr.Reader(['en'])\n",
    "# cordinates = cordinates.cpu().numpy()\n",
    "\n",
    "frame = cv.imread(img) ### reading the image\n",
    "frame = cv.cvtColor(frame,cv.COLOR_BGR2RGB)\n",
    "\n",
    "\n",
    "result = read_plate_number(cordinates, frame, reader)\n",
    "print(result)"
   ]
  },
  {
   "cell_type": "code",
   "execution_count": null,
   "id": "759cc76c",
   "metadata": {},
   "outputs": [],
   "source": []
  }
 ],
 "metadata": {
  "kernelspec": {
   "display_name": "Python 3",
   "language": "python",
   "name": "python3"
  },
  "language_info": {
   "codemirror_mode": {
    "name": "ipython",
    "version": 3
   },
   "file_extension": ".py",
   "mimetype": "text/x-python",
   "name": "python",
   "nbconvert_exporter": "python",
   "pygments_lexer": "ipython3",
   "version": "3.9.6"
  },
  "papermill": {
   "default_parameters": {},
   "duration": 7114.126035,
   "end_time": "2023-05-18T07:11:55.942201",
   "environment_variables": {},
   "exception": null,
   "input_path": "__notebook__.ipynb",
   "output_path": "__notebook__.ipynb",
   "parameters": {},
   "start_time": "2023-05-18T05:13:21.816166",
   "version": "2.4.0"
  }
 },
 "nbformat": 4,
 "nbformat_minor": 5
}
